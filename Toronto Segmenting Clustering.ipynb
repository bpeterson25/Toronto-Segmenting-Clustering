{
    "cells": [
        {
            "metadata": {},
            "cell_type": "markdown",
            "source": "# Coursera Data Science Capstone"
        },
        {
            "metadata": {},
            "cell_type": "markdown",
            "source": "## Toronto Segmenting Clustering"
        },
        {
            "metadata": {},
            "cell_type": "markdown",
            "source": "### Part 1"
        },
        {
            "metadata": {},
            "cell_type": "code",
            "source": "from bs4 import BeautifulSoup\nimport requests\nimport pandas as pd",
            "execution_count": 3,
            "outputs": []
        },
        {
            "metadata": {},
            "cell_type": "code",
            "source": "# Add the Toronot Wikipedia page\nurl='https://en.wikipedia.org/wiki/List_of_postal_codes_of_Canada:_M'\nresponse = requests.get(url)\n\n#Change html data to useable data for df\ndata = response.text\nsoup = BeautifulSoup(data,'html.parser')\nwiki_table=soup.find('table')\n\n#create the dataframe for use \ndf = pd.read_html(str(wiki_table))[0]\ndf.head(20)",
            "execution_count": 4,
            "outputs": [
                {
                    "output_type": "execute_result",
                    "execution_count": 4,
                    "data": {
                        "text/plain": "   Postal Code           Borough  \\\n0          M1A      Not assigned   \n1          M2A      Not assigned   \n2          M3A        North York   \n3          M4A        North York   \n4          M5A  Downtown Toronto   \n5          M6A        North York   \n6          M7A  Downtown Toronto   \n7          M8A      Not assigned   \n8          M9A         Etobicoke   \n9          M1B       Scarborough   \n10         M2B      Not assigned   \n11         M3B        North York   \n12         M4B         East York   \n13         M5B  Downtown Toronto   \n14         M6B        North York   \n15         M7B      Not assigned   \n16         M8B      Not assigned   \n17         M9B         Etobicoke   \n18         M1C       Scarborough   \n19         M2C      Not assigned   \n\n                                        Neighbourhood  \n0                                        Not assigned  \n1                                        Not assigned  \n2                                           Parkwoods  \n3                                    Victoria Village  \n4                           Regent Park, Harbourfront  \n5                    Lawrence Manor, Lawrence Heights  \n6         Queen's Park, Ontario Provincial Government  \n7                                        Not assigned  \n8             Islington Avenue, Humber Valley Village  \n9                                      Malvern, Rouge  \n10                                       Not assigned  \n11                                          Don Mills  \n12                    Parkview Hill, Woodbine Gardens  \n13                           Garden District, Ryerson  \n14                                          Glencairn  \n15                                       Not assigned  \n16                                       Not assigned  \n17  West Deane Park, Princess Gardens, Martin Grov...  \n18             Rouge Hill, Port Union, Highland Creek  \n19                                       Not assigned  ",
                        "text/html": "<div>\n<style scoped>\n    .dataframe tbody tr th:only-of-type {\n        vertical-align: middle;\n    }\n\n    .dataframe tbody tr th {\n        vertical-align: top;\n    }\n\n    .dataframe thead th {\n        text-align: right;\n    }\n</style>\n<table border=\"1\" class=\"dataframe\">\n  <thead>\n    <tr style=\"text-align: right;\">\n      <th></th>\n      <th>Postal Code</th>\n      <th>Borough</th>\n      <th>Neighbourhood</th>\n    </tr>\n  </thead>\n  <tbody>\n    <tr>\n      <th>0</th>\n      <td>M1A</td>\n      <td>Not assigned</td>\n      <td>Not assigned</td>\n    </tr>\n    <tr>\n      <th>1</th>\n      <td>M2A</td>\n      <td>Not assigned</td>\n      <td>Not assigned</td>\n    </tr>\n    <tr>\n      <th>2</th>\n      <td>M3A</td>\n      <td>North York</td>\n      <td>Parkwoods</td>\n    </tr>\n    <tr>\n      <th>3</th>\n      <td>M4A</td>\n      <td>North York</td>\n      <td>Victoria Village</td>\n    </tr>\n    <tr>\n      <th>4</th>\n      <td>M5A</td>\n      <td>Downtown Toronto</td>\n      <td>Regent Park, Harbourfront</td>\n    </tr>\n    <tr>\n      <th>5</th>\n      <td>M6A</td>\n      <td>North York</td>\n      <td>Lawrence Manor, Lawrence Heights</td>\n    </tr>\n    <tr>\n      <th>6</th>\n      <td>M7A</td>\n      <td>Downtown Toronto</td>\n      <td>Queen's Park, Ontario Provincial Government</td>\n    </tr>\n    <tr>\n      <th>7</th>\n      <td>M8A</td>\n      <td>Not assigned</td>\n      <td>Not assigned</td>\n    </tr>\n    <tr>\n      <th>8</th>\n      <td>M9A</td>\n      <td>Etobicoke</td>\n      <td>Islington Avenue, Humber Valley Village</td>\n    </tr>\n    <tr>\n      <th>9</th>\n      <td>M1B</td>\n      <td>Scarborough</td>\n      <td>Malvern, Rouge</td>\n    </tr>\n    <tr>\n      <th>10</th>\n      <td>M2B</td>\n      <td>Not assigned</td>\n      <td>Not assigned</td>\n    </tr>\n    <tr>\n      <th>11</th>\n      <td>M3B</td>\n      <td>North York</td>\n      <td>Don Mills</td>\n    </tr>\n    <tr>\n      <th>12</th>\n      <td>M4B</td>\n      <td>East York</td>\n      <td>Parkview Hill, Woodbine Gardens</td>\n    </tr>\n    <tr>\n      <th>13</th>\n      <td>M5B</td>\n      <td>Downtown Toronto</td>\n      <td>Garden District, Ryerson</td>\n    </tr>\n    <tr>\n      <th>14</th>\n      <td>M6B</td>\n      <td>North York</td>\n      <td>Glencairn</td>\n    </tr>\n    <tr>\n      <th>15</th>\n      <td>M7B</td>\n      <td>Not assigned</td>\n      <td>Not assigned</td>\n    </tr>\n    <tr>\n      <th>16</th>\n      <td>M8B</td>\n      <td>Not assigned</td>\n      <td>Not assigned</td>\n    </tr>\n    <tr>\n      <th>17</th>\n      <td>M9B</td>\n      <td>Etobicoke</td>\n      <td>West Deane Park, Princess Gardens, Martin Grov...</td>\n    </tr>\n    <tr>\n      <th>18</th>\n      <td>M1C</td>\n      <td>Scarborough</td>\n      <td>Rouge Hill, Port Union, Highland Creek</td>\n    </tr>\n    <tr>\n      <th>19</th>\n      <td>M2C</td>\n      <td>Not assigned</td>\n      <td>Not assigned</td>\n    </tr>\n  </tbody>\n</table>\n</div>"
                    },
                    "metadata": {}
                }
            ]
        },
        {
            "metadata": {},
            "cell_type": "code",
            "source": "# Remove all of the \"Borough\" entities with 'Not assigned' values\ndf_NA=df[df['Borough'].str.contains(\"Not assigned\") == False].reset_index()\ndf_NA.head(20)",
            "execution_count": 5,
            "outputs": [
                {
                    "output_type": "execute_result",
                    "execution_count": 5,
                    "data": {
                        "text/plain": "    index Postal Code           Borough  \\\n0       2         M3A        North York   \n1       3         M4A        North York   \n2       4         M5A  Downtown Toronto   \n3       5         M6A        North York   \n4       6         M7A  Downtown Toronto   \n5       8         M9A         Etobicoke   \n6       9         M1B       Scarborough   \n7      11         M3B        North York   \n8      12         M4B         East York   \n9      13         M5B  Downtown Toronto   \n10     14         M6B        North York   \n11     17         M9B         Etobicoke   \n12     18         M1C       Scarborough   \n13     20         M3C        North York   \n14     21         M4C         East York   \n15     22         M5C  Downtown Toronto   \n16     23         M6C              York   \n17     26         M9C         Etobicoke   \n18     27         M1E       Scarborough   \n19     30         M4E      East Toronto   \n\n                                        Neighbourhood  \n0                                           Parkwoods  \n1                                    Victoria Village  \n2                           Regent Park, Harbourfront  \n3                    Lawrence Manor, Lawrence Heights  \n4         Queen's Park, Ontario Provincial Government  \n5             Islington Avenue, Humber Valley Village  \n6                                      Malvern, Rouge  \n7                                           Don Mills  \n8                     Parkview Hill, Woodbine Gardens  \n9                            Garden District, Ryerson  \n10                                          Glencairn  \n11  West Deane Park, Princess Gardens, Martin Grov...  \n12             Rouge Hill, Port Union, Highland Creek  \n13                                          Don Mills  \n14                                   Woodbine Heights  \n15                                     St. James Town  \n16                                 Humewood-Cedarvale  \n17  Eringate, Bloordale Gardens, Old Burnhamthorpe...  \n18                  Guildwood, Morningside, West Hill  \n19                                        The Beaches  ",
                        "text/html": "<div>\n<style scoped>\n    .dataframe tbody tr th:only-of-type {\n        vertical-align: middle;\n    }\n\n    .dataframe tbody tr th {\n        vertical-align: top;\n    }\n\n    .dataframe thead th {\n        text-align: right;\n    }\n</style>\n<table border=\"1\" class=\"dataframe\">\n  <thead>\n    <tr style=\"text-align: right;\">\n      <th></th>\n      <th>index</th>\n      <th>Postal Code</th>\n      <th>Borough</th>\n      <th>Neighbourhood</th>\n    </tr>\n  </thead>\n  <tbody>\n    <tr>\n      <th>0</th>\n      <td>2</td>\n      <td>M3A</td>\n      <td>North York</td>\n      <td>Parkwoods</td>\n    </tr>\n    <tr>\n      <th>1</th>\n      <td>3</td>\n      <td>M4A</td>\n      <td>North York</td>\n      <td>Victoria Village</td>\n    </tr>\n    <tr>\n      <th>2</th>\n      <td>4</td>\n      <td>M5A</td>\n      <td>Downtown Toronto</td>\n      <td>Regent Park, Harbourfront</td>\n    </tr>\n    <tr>\n      <th>3</th>\n      <td>5</td>\n      <td>M6A</td>\n      <td>North York</td>\n      <td>Lawrence Manor, Lawrence Heights</td>\n    </tr>\n    <tr>\n      <th>4</th>\n      <td>6</td>\n      <td>M7A</td>\n      <td>Downtown Toronto</td>\n      <td>Queen's Park, Ontario Provincial Government</td>\n    </tr>\n    <tr>\n      <th>5</th>\n      <td>8</td>\n      <td>M9A</td>\n      <td>Etobicoke</td>\n      <td>Islington Avenue, Humber Valley Village</td>\n    </tr>\n    <tr>\n      <th>6</th>\n      <td>9</td>\n      <td>M1B</td>\n      <td>Scarborough</td>\n      <td>Malvern, Rouge</td>\n    </tr>\n    <tr>\n      <th>7</th>\n      <td>11</td>\n      <td>M3B</td>\n      <td>North York</td>\n      <td>Don Mills</td>\n    </tr>\n    <tr>\n      <th>8</th>\n      <td>12</td>\n      <td>M4B</td>\n      <td>East York</td>\n      <td>Parkview Hill, Woodbine Gardens</td>\n    </tr>\n    <tr>\n      <th>9</th>\n      <td>13</td>\n      <td>M5B</td>\n      <td>Downtown Toronto</td>\n      <td>Garden District, Ryerson</td>\n    </tr>\n    <tr>\n      <th>10</th>\n      <td>14</td>\n      <td>M6B</td>\n      <td>North York</td>\n      <td>Glencairn</td>\n    </tr>\n    <tr>\n      <th>11</th>\n      <td>17</td>\n      <td>M9B</td>\n      <td>Etobicoke</td>\n      <td>West Deane Park, Princess Gardens, Martin Grov...</td>\n    </tr>\n    <tr>\n      <th>12</th>\n      <td>18</td>\n      <td>M1C</td>\n      <td>Scarborough</td>\n      <td>Rouge Hill, Port Union, Highland Creek</td>\n    </tr>\n    <tr>\n      <th>13</th>\n      <td>20</td>\n      <td>M3C</td>\n      <td>North York</td>\n      <td>Don Mills</td>\n    </tr>\n    <tr>\n      <th>14</th>\n      <td>21</td>\n      <td>M4C</td>\n      <td>East York</td>\n      <td>Woodbine Heights</td>\n    </tr>\n    <tr>\n      <th>15</th>\n      <td>22</td>\n      <td>M5C</td>\n      <td>Downtown Toronto</td>\n      <td>St. James Town</td>\n    </tr>\n    <tr>\n      <th>16</th>\n      <td>23</td>\n      <td>M6C</td>\n      <td>York</td>\n      <td>Humewood-Cedarvale</td>\n    </tr>\n    <tr>\n      <th>17</th>\n      <td>26</td>\n      <td>M9C</td>\n      <td>Etobicoke</td>\n      <td>Eringate, Bloordale Gardens, Old Burnhamthorpe...</td>\n    </tr>\n    <tr>\n      <th>18</th>\n      <td>27</td>\n      <td>M1E</td>\n      <td>Scarborough</td>\n      <td>Guildwood, Morningside, West Hill</td>\n    </tr>\n    <tr>\n      <th>19</th>\n      <td>30</td>\n      <td>M4E</td>\n      <td>East Toronto</td>\n      <td>The Beaches</td>\n    </tr>\n  </tbody>\n</table>\n</div>"
                    },
                    "metadata": {}
                }
            ]
        },
        {
            "metadata": {},
            "cell_type": "code",
            "source": "df_NA.shape",
            "execution_count": 6,
            "outputs": [
                {
                    "output_type": "execute_result",
                    "execution_count": 6,
                    "data": {
                        "text/plain": "(103, 4)"
                    },
                    "metadata": {}
                }
            ]
        },
        {
            "metadata": {},
            "cell_type": "markdown",
            "source": "### Part 2"
        },
        {
            "metadata": {},
            "cell_type": "markdown",
            "source": "Import Geospatial Data"
        },
        {
            "metadata": {},
            "cell_type": "code",
            "source": "!wget -O zipcodes.csv http://cocl.us/Geospatial_data",
            "execution_count": 8,
            "outputs": [
                {
                    "output_type": "stream",
                    "text": "--2020-12-31 14:33:19--  http://cocl.us/Geospatial_data\nResolving cocl.us (cocl.us)... 169.63.96.194, 169.63.96.176\nConnecting to cocl.us (cocl.us)|169.63.96.194|:80... connected.\nHTTP request sent, awaiting response... 301 Moved Permanently\nLocation: https://cocl.us/Geospatial_data [following]\n--2020-12-31 14:33:20--  https://cocl.us/Geospatial_data\nConnecting to cocl.us (cocl.us)|169.63.96.194|:443... connected.\nHTTP request sent, awaiting response... 301 Moved Permanently\nLocation: https://ibm.box.com/shared/static/9afzr83pps4pwf2smjjcf1y5mvgb18rr.csv [following]\n--2020-12-31 14:33:20--  https://ibm.box.com/shared/static/9afzr83pps4pwf2smjjcf1y5mvgb18rr.csv\nResolving ibm.box.com (ibm.box.com)... 107.152.29.197\nConnecting to ibm.box.com (ibm.box.com)|107.152.29.197|:443... connected.\nHTTP request sent, awaiting response... 301 Moved Permanently\nLocation: /public/static/9afzr83pps4pwf2smjjcf1y5mvgb18rr.csv [following]\n--2020-12-31 14:33:21--  https://ibm.box.com/public/static/9afzr83pps4pwf2smjjcf1y5mvgb18rr.csv\nReusing existing connection to ibm.box.com:443.\nHTTP request sent, awaiting response... 301 Moved Permanently\nLocation: https://ibm.ent.box.com/public/static/9afzr83pps4pwf2smjjcf1y5mvgb18rr.csv [following]\n--2020-12-31 14:33:21--  https://ibm.ent.box.com/public/static/9afzr83pps4pwf2smjjcf1y5mvgb18rr.csv\nResolving ibm.ent.box.com (ibm.ent.box.com)... 107.152.29.201\nConnecting to ibm.ent.box.com (ibm.ent.box.com)|107.152.29.201|:443... connected.\nHTTP request sent, awaiting response... 302 Found\nLocation: https://public.boxcloud.com/d/1/b1!5sAVBsKSKPi-o6ctuPxWqA-ZmBFuSFbVoqdfrtXhrajahpOVqbG77IfIafsPfZuW2hultS8SxzxVh5jVJ_AlUFLliaOLZyg_R5-4hCqoxKL2Bwtt66JKfqzmkMUKh1z_2BFzbx3NBIfapGhP5Jc1vJAy8VH-lmUy_wjC8ADqAjBSIhMKatD2FR9IDXCOW5p74Q1pMfKGqLGmGkFsAoPBbuaebkkAeLdP9zgVBtcvOS9tE3Wh1aTda76DTUiC_Lo_amha5A9sHLeIgSzIUGbsEoh5dszxsiFweVMb18HBXy6W_vW0MRIkdDyab8PwyPUvUZDqzPqYgs--kPfGOmk3qwk0JLSPeMXq8dVxlR9snTYbJNT84mgpJxoEl1HK1ExYFT1c4obNG1zZuwpbBVFpFGjMyxkIZIJ0hv2lS_d01CSclaiOhYa1K-EXScDrFm3Vsy70YBFCdybCDN585m2BpZF1zOkX-4j0sgC4Sw4deJP4cIRYW_Lxn6OkSpmQtK77ogeDXarYVvTptrg_VsZVJzYXz_p_JIQjFfa6EyoYnuSD-rmYFzxZUdYuhT-TqBh2q2eBKMbaP4mPFiDZ7HnE8663CuFsWvnbZ9mKakBvIITn1mNMunFmk7rpCeSuV_iJyiAuHtsPGrIoSH-hDlfWxPGVVhvJUrBxIl73kydtmUT8AkOdVN1J9DGPlry_kqCIbk7DEco_v6TW51NyrqP1CYCVcuGzRMd2JwGR1a7AqzrN7PU23MGNRbfRrtw1l4gvn-eaUliMisNAdTlwvzt62l658jbznxmNedC5WCL26b8tyhYvzZvVs8txCT97s3yqLwLePYJns4hYpqfp-uVyitCOkkoIA81j8nDJ11DQ7Jia135NHvxqMm0rwy4ePIp5HNujP_wfAzdPAKvni8DQ4rmtP7ZXRe0NXhDz4MgmqiMwePlU3MqJys-GX1hjxNOeDaZ8gb1vnWvU66QbP4_kC-wgoAVJB_ne3zaUaATzN6TILqVEa3GTwMirFZmc1maigjZrPNAlXQ0-kRiIkLDdHYMWMGYBWJtfF9o2TXtlqPcCkpetJT-Wll1WK1Oa2g1RFXzKuCvzGtwPwXMUjN53wJUqyBMLu1L5bFPlL-Y7krGQoSjm2NhKxZUzOsZwoS2SryhxzYdNLrBjy1ltHejn29AcECnUYxrgFgCWFkCvlmGYQGho3g30C7xe2dQ27tvsD4ApCYKJRC13bF0t0Wjrg8VoexlaSUe5oDiDsbWG4VJvP58ugdSUstveo6RPug4tuyBVEeTTeXMtgCvR2vigx9NumWqk2w5XTwdzaNcSB5wvUiYobDAwfT7eFBYdKUTOAD3_hsItLkeF8GnzBUfWG2BwJQuasE8lHD-1AWanviCR29Gh0_oG9YskU0kQulr_HL6R9zhxSDmopo61P3edBWZdrM8crLOi7zFFWJ-yODRhLokh1xJH6-mYCNDIu81Ss5mlvTN_Nkn7HA../download [following]\n--2020-12-31 14:33:22--  https://public.boxcloud.com/d/1/b1!5sAVBsKSKPi-o6ctuPxWqA-ZmBFuSFbVoqdfrtXhrajahpOVqbG77IfIafsPfZuW2hultS8SxzxVh5jVJ_AlUFLliaOLZyg_R5-4hCqoxKL2Bwtt66JKfqzmkMUKh1z_2BFzbx3NBIfapGhP5Jc1vJAy8VH-lmUy_wjC8ADqAjBSIhMKatD2FR9IDXCOW5p74Q1pMfKGqLGmGkFsAoPBbuaebkkAeLdP9zgVBtcvOS9tE3Wh1aTda76DTUiC_Lo_amha5A9sHLeIgSzIUGbsEoh5dszxsiFweVMb18HBXy6W_vW0MRIkdDyab8PwyPUvUZDqzPqYgs--kPfGOmk3qwk0JLSPeMXq8dVxlR9snTYbJNT84mgpJxoEl1HK1ExYFT1c4obNG1zZuwpbBVFpFGjMyxkIZIJ0hv2lS_d01CSclaiOhYa1K-EXScDrFm3Vsy70YBFCdybCDN585m2BpZF1zOkX-4j0sgC4Sw4deJP4cIRYW_Lxn6OkSpmQtK77ogeDXarYVvTptrg_VsZVJzYXz_p_JIQjFfa6EyoYnuSD-rmYFzxZUdYuhT-TqBh2q2eBKMbaP4mPFiDZ7HnE8663CuFsWvnbZ9mKakBvIITn1mNMunFmk7rpCeSuV_iJyiAuHtsPGrIoSH-hDlfWxPGVVhvJUrBxIl73kydtmUT8AkOdVN1J9DGPlry_kqCIbk7DEco_v6TW51NyrqP1CYCVcuGzRMd2JwGR1a7AqzrN7PU23MGNRbfRrtw1l4gvn-eaUliMisNAdTlwvzt62l658jbznxmNedC5WCL26b8tyhYvzZvVs8txCT97s3yqLwLePYJns4hYpqfp-uVyitCOkkoIA81j8nDJ11DQ7Jia135NHvxqMm0rwy4ePIp5HNujP_wfAzdPAKvni8DQ4rmtP7ZXRe0NXhDz4MgmqiMwePlU3MqJys-GX1hjxNOeDaZ8gb1vnWvU66QbP4_kC-wgoAVJB_ne3zaUaATzN6TILqVEa3GTwMirFZmc1maigjZrPNAlXQ0-kRiIkLDdHYMWMGYBWJtfF9o2TXtlqPcCkpetJT-Wll1WK1Oa2g1RFXzKuCvzGtwPwXMUjN53wJUqyBMLu1L5bFPlL-Y7krGQoSjm2NhKxZUzOsZwoS2SryhxzYdNLrBjy1ltHejn29AcECnUYxrgFgCWFkCvlmGYQGho3g30C7xe2dQ27tvsD4ApCYKJRC13bF0t0Wjrg8VoexlaSUe5oDiDsbWG4VJvP58ugdSUstveo6RPug4tuyBVEeTTeXMtgCvR2vigx9NumWqk2w5XTwdzaNcSB5wvUiYobDAwfT7eFBYdKUTOAD3_hsItLkeF8GnzBUfWG2BwJQuasE8lHD-1AWanviCR29Gh0_oG9YskU0kQulr_HL6R9zhxSDmopo61P3edBWZdrM8crLOi7zFFWJ-yODRhLokh1xJH6-mYCNDIu81Ss5mlvTN_Nkn7HA../download\nResolving public.boxcloud.com (public.boxcloud.com)... 107.152.29.200\nConnecting to public.boxcloud.com (public.boxcloud.com)|107.152.29.200|:443... connected.\nHTTP request sent, awaiting response... 200 OK\nLength: 2891 (2.8K) [text/csv]\nSaving to: \u2018zipcodes.csv\u2019\n\nzipcodes.csv        100%[===================>]   2.82K  --.-KB/s    in 0s      \n\n2020-12-31 14:33:22 (54.3 MB/s) - \u2018zipcodes.csv\u2019 saved [2891/2891]\n\n",
                    "name": "stdout"
                }
            ]
        },
        {
            "metadata": {},
            "cell_type": "code",
            "source": "zipcode_df = pd.read_csv('zipcodes.csv')",
            "execution_count": 9,
            "outputs": []
        },
        {
            "metadata": {},
            "cell_type": "code",
            "source": "zipcode_df.head()",
            "execution_count": 10,
            "outputs": [
                {
                    "output_type": "execute_result",
                    "execution_count": 10,
                    "data": {
                        "text/plain": "  Postal Code   Latitude  Longitude\n0         M1B  43.806686 -79.194353\n1         M1C  43.784535 -79.160497\n2         M1E  43.763573 -79.188711\n3         M1G  43.770992 -79.216917\n4         M1H  43.773136 -79.239476",
                        "text/html": "<div>\n<style scoped>\n    .dataframe tbody tr th:only-of-type {\n        vertical-align: middle;\n    }\n\n    .dataframe tbody tr th {\n        vertical-align: top;\n    }\n\n    .dataframe thead th {\n        text-align: right;\n    }\n</style>\n<table border=\"1\" class=\"dataframe\">\n  <thead>\n    <tr style=\"text-align: right;\">\n      <th></th>\n      <th>Postal Code</th>\n      <th>Latitude</th>\n      <th>Longitude</th>\n    </tr>\n  </thead>\n  <tbody>\n    <tr>\n      <th>0</th>\n      <td>M1B</td>\n      <td>43.806686</td>\n      <td>-79.194353</td>\n    </tr>\n    <tr>\n      <th>1</th>\n      <td>M1C</td>\n      <td>43.784535</td>\n      <td>-79.160497</td>\n    </tr>\n    <tr>\n      <th>2</th>\n      <td>M1E</td>\n      <td>43.763573</td>\n      <td>-79.188711</td>\n    </tr>\n    <tr>\n      <th>3</th>\n      <td>M1G</td>\n      <td>43.770992</td>\n      <td>-79.216917</td>\n    </tr>\n    <tr>\n      <th>4</th>\n      <td>M1H</td>\n      <td>43.773136</td>\n      <td>-79.239476</td>\n    </tr>\n  </tbody>\n</table>\n</div>"
                    },
                    "metadata": {}
                }
            ]
        },
        {
            "metadata": {},
            "cell_type": "markdown",
            "source": "Join on 'Postal Code' Column"
        },
        {
            "metadata": {},
            "cell_type": "code",
            "source": "#Merge data frames\n\ndf_toronto = pd.merge(df_NA, zipcode_df, on = 'Postal Code')\ndf_toronto.head()",
            "execution_count": 13,
            "outputs": [
                {
                    "output_type": "execute_result",
                    "execution_count": 13,
                    "data": {
                        "text/plain": "   index Postal Code           Borough  \\\n0      2         M3A        North York   \n1      3         M4A        North York   \n2      4         M5A  Downtown Toronto   \n3      5         M6A        North York   \n4      6         M7A  Downtown Toronto   \n\n                                 Neighbourhood   Latitude  Longitude  \n0                                    Parkwoods  43.753259 -79.329656  \n1                             Victoria Village  43.725882 -79.315572  \n2                    Regent Park, Harbourfront  43.654260 -79.360636  \n3             Lawrence Manor, Lawrence Heights  43.718518 -79.464763  \n4  Queen's Park, Ontario Provincial Government  43.662301 -79.389494  ",
                        "text/html": "<div>\n<style scoped>\n    .dataframe tbody tr th:only-of-type {\n        vertical-align: middle;\n    }\n\n    .dataframe tbody tr th {\n        vertical-align: top;\n    }\n\n    .dataframe thead th {\n        text-align: right;\n    }\n</style>\n<table border=\"1\" class=\"dataframe\">\n  <thead>\n    <tr style=\"text-align: right;\">\n      <th></th>\n      <th>index</th>\n      <th>Postal Code</th>\n      <th>Borough</th>\n      <th>Neighbourhood</th>\n      <th>Latitude</th>\n      <th>Longitude</th>\n    </tr>\n  </thead>\n  <tbody>\n    <tr>\n      <th>0</th>\n      <td>2</td>\n      <td>M3A</td>\n      <td>North York</td>\n      <td>Parkwoods</td>\n      <td>43.753259</td>\n      <td>-79.329656</td>\n    </tr>\n    <tr>\n      <th>1</th>\n      <td>3</td>\n      <td>M4A</td>\n      <td>North York</td>\n      <td>Victoria Village</td>\n      <td>43.725882</td>\n      <td>-79.315572</td>\n    </tr>\n    <tr>\n      <th>2</th>\n      <td>4</td>\n      <td>M5A</td>\n      <td>Downtown Toronto</td>\n      <td>Regent Park, Harbourfront</td>\n      <td>43.654260</td>\n      <td>-79.360636</td>\n    </tr>\n    <tr>\n      <th>3</th>\n      <td>5</td>\n      <td>M6A</td>\n      <td>North York</td>\n      <td>Lawrence Manor, Lawrence Heights</td>\n      <td>43.718518</td>\n      <td>-79.464763</td>\n    </tr>\n    <tr>\n      <th>4</th>\n      <td>6</td>\n      <td>M7A</td>\n      <td>Downtown Toronto</td>\n      <td>Queen's Park, Ontario Provincial Government</td>\n      <td>43.662301</td>\n      <td>-79.389494</td>\n    </tr>\n  </tbody>\n</table>\n</div>"
                    },
                    "metadata": {}
                }
            ]
        },
        {
            "metadata": {},
            "cell_type": "code",
            "source": "df_toronto.shape",
            "execution_count": 15,
            "outputs": [
                {
                    "output_type": "execute_result",
                    "execution_count": 15,
                    "data": {
                        "text/plain": "(103, 6)"
                    },
                    "metadata": {}
                }
            ]
        },
        {
            "metadata": {},
            "cell_type": "markdown",
            "source": "### Part 3"
        },
        {
            "metadata": {},
            "cell_type": "code",
            "source": "",
            "execution_count": null,
            "outputs": []
        }
    ],
    "metadata": {
        "kernelspec": {
            "name": "python3",
            "display_name": "Python 3.7",
            "language": "python"
        },
        "language_info": {
            "name": "python",
            "version": "3.7.9",
            "mimetype": "text/x-python",
            "codemirror_mode": {
                "name": "ipython",
                "version": 3
            },
            "pygments_lexer": "ipython3",
            "nbconvert_exporter": "python",
            "file_extension": ".py"
        }
    },
    "nbformat": 4,
    "nbformat_minor": 1
}